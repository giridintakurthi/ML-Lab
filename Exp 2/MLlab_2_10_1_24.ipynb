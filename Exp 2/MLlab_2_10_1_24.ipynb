{
  "nbformat": 4,
  "nbformat_minor": 0,
  "metadata": {
    "colab": {
      "provenance": []
    },
    "kernelspec": {
      "name": "python3",
      "display_name": "Python 3"
    },
    "language_info": {
      "name": "python"
    }
  },
  "cells": [
    {
      "cell_type": "code",
      "execution_count": 2,
      "metadata": {
        "colab": {
          "base_uri": "https://localhost:8080/"
        },
        "id": "0kjM8XJRBHUj",
        "outputId": "f726a73e-ec84-4654-b7de-90836d42023a"
      },
      "outputs": [
        {
          "output_type": "stream",
          "name": "stdout",
          "text": [
            "\n",
            " The Given Training Data Set\n",
            "['Sunny', 'Warm', 'Normal', 'Strong', 'Warm', 'Same', 'Yes']\n",
            "['Sunny', 'Warm', 'High', 'Strong', 'Warm', 'Same', 'Yes']\n",
            "['Rainy', 'Cold', 'High', 'Strong', 'Warm', 'Change', 'No']\n",
            "['Sunny', 'Warm', 'High', 'Strong', 'Cool', 'Change', 'Yes']\n"
          ]
        }
      ],
      "source": [
        "import csv\n",
        "a = []\n",
        "print(\"\\n The Given Training Data Set\")\n",
        "with open('/content/Find S dataset.csv', 'r') as csvFile:\n",
        "    reader = csv.reader(csvFile)\n",
        "    for row in reader:\n",
        "        a.append (row)\n",
        "        print(row)\n"
      ]
    },
    {
      "cell_type": "code",
      "source": [
        "num_attributes = len(a[0])-1\n",
        "print(num_attributes)\n",
        "print(\"\\n The initial value of hypothesis: \")\n",
        "S = ['0'] * num_attributes\n",
        "G = ['?'] * num_attributes\n",
        "print (\"\\n The most specific hypothesis S0 : [0,0,0,0,0,0]\")\n",
        "print (\" \\n The most general hypothesis G0 : [?,?,?,?,?,?]\")\n"
      ],
      "metadata": {
        "colab": {
          "base_uri": "https://localhost:8080/"
        },
        "id": "cP3kwX9nBnho",
        "outputId": "fd133b28-a592-474d-930a-eb36402f8069"
      },
      "execution_count": 3,
      "outputs": [
        {
          "output_type": "stream",
          "name": "stdout",
          "text": [
            "6\n",
            "\n",
            " The initial value of hypothesis: \n",
            "\n",
            " The most specific hypothesis S0 : [0,0,0,0,0,0]\n",
            " \n",
            " The most general hypothesis G0 : [?,?,?,?,?,?]\n"
          ]
        }
      ]
    },
    {
      "cell_type": "code",
      "source": [
        "for j in range(0,num_attributes):\n",
        "    S[j]=a[0][j];\n",
        "\n",
        "print(\"\\n Candidate Elimination algorithm Hypotheses Version Space Computation\\n\")\n",
        "temp=[]\n",
        "for i in range(0,len(a)):\n",
        "    if a[i][num_attributes]=='Yes':\n",
        "        for j in range(0,num_attributes):\n",
        "            if a[i][j]!=S[j]:\n",
        "                S[j]='?'\n",
        "        for j in range(0,num_attributes):\n",
        "            for k in range(1,len(temp)):\n",
        "                if temp[k][j]!='?' and temp[k][j]!=S[j]:\n",
        "                    del temp[k]\n",
        "        print(\"--------------------------------------------------------- \")\n",
        "        print(\" For Training Example No :{0} the hypothesis is S{0} \".format(i+1),S)\n",
        "        if (len(temp)==0):\n",
        "            print(\" For Training Example No :{0} the hypothesis is G{0} \".format(i+1),G)\n",
        "        else:\n",
        "            print(\" For  Positive Training Example No :{0} the hypothesis is G{0}\".format(i+1),temp)\n",
        "    if a[i][num_attributes]=='No':\n",
        "        for j in range(0,num_attributes):\n",
        "            if S[j] != a[i][j] and S[j]!= '?':\n",
        "                G[j]=S[j]\n",
        "                temp.append(G)\n",
        "                G = ['?'] * num_attributes\n",
        "        print(\"-------------------------------------------------------- \")\n",
        "        print(\" For Training Example No :{0} the hypothesis is S{0} \".format(i+1),S)\n",
        "        print(\" For Training Example No :{0} the hypothesis is G{0}\".format(i+1),temp)\n",
        "\n"
      ],
      "metadata": {
        "colab": {
          "base_uri": "https://localhost:8080/"
        },
        "id": "3ZRIPrAhBwwl",
        "outputId": "df73114c-41dd-4948-b7df-077878b746aa"
      },
      "execution_count": 4,
      "outputs": [
        {
          "output_type": "stream",
          "name": "stdout",
          "text": [
            "\n",
            " Candidate Elimination algorithm Hypotheses Version Space Computation\n",
            "\n",
            "--------------------------------------------------------- \n",
            " For Training Example No :1 the hypothesis is S1  ['Sunny', 'Warm', 'Normal', 'Strong', 'Warm', 'Same']\n",
            " For Training Example No :1 the hypothesis is G1  ['?', '?', '?', '?', '?', '?']\n",
            "--------------------------------------------------------- \n",
            " For Training Example No :2 the hypothesis is S2  ['Sunny', 'Warm', '?', 'Strong', 'Warm', 'Same']\n",
            " For Training Example No :2 the hypothesis is G2  ['?', '?', '?', '?', '?', '?']\n",
            "-------------------------------------------------------- \n",
            " For Training Example No :3 the hypothesis is S3  ['Sunny', 'Warm', '?', 'Strong', 'Warm', 'Same']\n",
            " For Training Example No :3 the hypothesis is G3 [['Sunny', '?', '?', '?', '?', '?'], ['?', 'Warm', '?', '?', '?', '?'], ['?', '?', '?', '?', '?', 'Same']]\n",
            "--------------------------------------------------------- \n",
            " For Training Example No :4 the hypothesis is S4  ['Sunny', 'Warm', '?', 'Strong', '?', '?']\n",
            " For  Positive Training Example No :4 the hypothesis is G4 [['Sunny', '?', '?', '?', '?', '?'], ['?', 'Warm', '?', '?', '?', '?']]\n"
          ]
        }
      ]
    }
  ]
}