{
  "nbformat": 4,
  "nbformat_minor": 0,
  "metadata": {
    "colab": {
      "provenance": []
    },
    "kernelspec": {
      "name": "python3",
      "display_name": "Python 3"
    },
    "language_info": {
      "name": "python"
    }
  },
  "cells": [
    {
      "cell_type": "code",
      "execution_count": 1,
      "metadata": {
        "colab": {
          "base_uri": "https://localhost:8080/"
        },
        "id": "7etngI_6D5YD",
        "outputId": "75cd3056-ffd8-47e4-c4e5-b9e8b2794a38"
      },
      "outputs": [
        {
          "output_type": "stream",
          "name": "stdout",
          "text": [
            "     Sunny  Warm  Normal  Strong Warm.1    Same  Yes\n",
            "0    Sunny  Warm    High  Strong   Warm    Same  Yes\n",
            "1    Rainy  Warm    High  Strong   Warm  Change   No\n",
            "2    Sunny  Warm    High  Strong   Cool  Change  Yes\n",
            "3   Cloudy  Warm    High  Strong   Cool    Same  Yes\n",
            "4    Rainy  Warm    Less  Strong   Warm  Change   No\n",
            "5   Cloudy  Warm  Normal    Week   Cool  Change  Yes\n",
            "6    Sunny  Warm  Normal  Strong   Warm    Same   No\n",
            "7    Rainy  Warm    High    Week   Cool    Same  Yes\n",
            "8   Cloudy  Warm    Less    Week   Warm  Change  Yes\n",
            "9    Sunny  Warm    Less    Week   Cool    Same   No\n",
            "10   Sunny  Warm  Normal    Week   Cool  Change  Yes\n",
            "11  Cloudy  Warm  Normal  Strong   Warm  Change  Yes\n",
            "12   Rainy  Warm    High  Strong   Warm    Same  Yes\n"
          ]
        }
      ],
      "source": [
        "import pandas as pd\n",
        "data=pd.read_csv('/content/Find S dataset 1.csv')\n",
        "print(data)\n"
      ]
    },
    {
      "cell_type": "code",
      "source": [
        "import numpy as np\n",
        "attributes=np.array(data)[:,:-1]\n",
        "print(attributes)\n"
      ],
      "metadata": {
        "colab": {
          "base_uri": "https://localhost:8080/"
        },
        "id": "kp9liNGuEVph",
        "outputId": "5a626f6c-1282-4396-cc3a-53ca8c471e1e"
      },
      "execution_count": 2,
      "outputs": [
        {
          "output_type": "stream",
          "name": "stdout",
          "text": [
            "[['Sunny' 'Warm' 'High' 'Strong' 'Warm' 'Same']\n",
            " ['Rainy' 'Warm' 'High' 'Strong' 'Warm' 'Change']\n",
            " ['Sunny' 'Warm' 'High' 'Strong' 'Cool' 'Change']\n",
            " ['Cloudy' 'Warm' 'High' 'Strong' 'Cool' 'Same']\n",
            " ['Rainy' 'Warm' 'Less' 'Strong' 'Warm' 'Change']\n",
            " ['Cloudy' 'Warm' 'Normal' 'Week' 'Cool' 'Change']\n",
            " ['Sunny' 'Warm' 'Normal' 'Strong' 'Warm' 'Same']\n",
            " ['Rainy' 'Warm' 'High' 'Week' 'Cool' 'Same']\n",
            " ['Cloudy' 'Warm' 'Less' 'Week' 'Warm' 'Change']\n",
            " ['Sunny' 'Warm' 'Less' 'Week' 'Cool' 'Same']\n",
            " ['Sunny' 'Warm' 'Normal' 'Week' 'Cool' 'Change']\n",
            " ['Cloudy' 'Warm' 'Normal' 'Strong' 'Warm' 'Change']\n",
            " ['Rainy' 'Warm' 'High' 'Strong' 'Warm' 'Same']]\n"
          ]
        }
      ]
    },
    {
      "cell_type": "code",
      "source": [
        "target=np.array(data)[:,-1]\n",
        "print(target)\n"
      ],
      "metadata": {
        "colab": {
          "base_uri": "https://localhost:8080/"
        },
        "id": "bF7RNfwKEY4_",
        "outputId": "9d84652c-f1c0-42d6-e322-f61edf0e7310"
      },
      "execution_count": 3,
      "outputs": [
        {
          "output_type": "stream",
          "name": "stdout",
          "text": [
            "['Yes' 'No' 'Yes' 'Yes' 'No' 'Yes' 'No' 'Yes' 'Yes' 'No' 'Yes' 'Yes' 'Yes']\n"
          ]
        }
      ]
    },
    {
      "cell_type": "code",
      "source": [
        "def learn(attributes, target):\n",
        "      for i,h in enumerate(attributes):\n",
        "        if target[i]==\"Yes\":\n",
        "          specific_h=attributes[i].copy()\n",
        "          break\n",
        "          print(specific_h)\n",
        "          general_h=[['?' for i in range(len(specific_h))] for i in range(len(specific_h))]\n",
        "          print(general_h)\n"
      ],
      "metadata": {
        "id": "rn9NLUYyEkq2"
      },
      "execution_count": 8,
      "outputs": []
    },
    {
      "cell_type": "code",
      "source": [
        "def learn(attributes, target):\n",
        "      for i,h in enumerate(attributes):\n",
        "        if target[i]==\"Yes\":\n",
        "          specific_h=attributes[i].copy()\n",
        "          break\n",
        "          print(specific_h)\n",
        "          general_h=[['?' for i in range(len(specific_h))] for i in range(len(specific_h))]\n",
        "          print(general_h)\n",
        "          for i,h in enumerate(attributes):\n",
        "            if target[i]==\"Yes\":\n",
        "              for x in range(len(specific_h)):\n",
        "                if h[x]!=specific_h[x]:\n",
        "                    specific_h[x]='?'\n",
        "                    general_h[x][x]='?'\n",
        "                    if target[i]==\"No\":\n",
        "                      for x in range(len(specific_h)):\n",
        "                        if h[x]!=specific_h[x]:\n",
        "                          general_h[x][x]=specific_h[x]\n",
        "                        else:\n",
        "                            general_h[x][x]='?'\n",
        "                            print(i+1)\n",
        "                            print(specific_h)\n",
        "                            print(general_h)\n",
        "                            return specific_h, general_h\n",
        "                            s,g=learn(attributes,target)"
      ],
      "metadata": {
        "id": "WOSnSBfmE5-e"
      },
      "execution_count": 17,
      "outputs": []
    }
  ]
}